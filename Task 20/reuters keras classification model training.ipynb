{
 "cells": [
  {
   "cell_type": "code",
   "execution_count": 2,
   "id": "4246b4eb",
   "metadata": {},
   "outputs": [
    {
     "name": "stdout",
     "output_type": "stream",
     "text": [
      "Downloading data from https://storage.googleapis.com/tensorflow/tf-keras-datasets/reuters.npz\n",
      "2110848/2110848 [==============================] - 7s 3us/step\n"
     ]
    }
   ],
   "source": [
    "from keras.datasets import reuters\n",
    "# multiclass classifciation tyme\n",
    "(train_data, train_labels), (test_data, test_labels) = reuters.load_data(num_words=10000)\n"
   ]
  },
  {
   "cell_type": "code",
   "execution_count": 3,
   "id": "3ac7025f",
   "metadata": {},
   "outputs": [
    {
     "name": "stdout",
     "output_type": "stream",
     "text": [
      "Downloading data from https://storage.googleapis.com/tensorflow/tf-keras-datasets/reuters_word_index.json\n",
      "550378/550378 [==============================] - 0s 0us/step\n"
     ]
    },
    {
     "data": {
      "text/plain": [
       "' generale de banque sa lt  br and lt heller overseas corp of chicago have each taken 50 pct stakes in  company sa  factors generale de banque said in a statement it gave no financial details of the transaction sa   turnover in 1986 was 17 5 billion belgian francs reuter 3'"
      ]
     },
     "execution_count": 3,
     "metadata": {},
     "output_type": "execute_result"
    }
   ],
   "source": [
    "word_index = reuters.get_word_index()\n",
    "reverse_word_index = dict(\n",
    "[(value, key) for (key, value) in word_index.items()])\n",
    "\n",
    "\n",
    "decoded_review = ' '.join([reverse_word_index.get(i - 3, '') for i in train_data[1]])\n",
    "decoded_review"
   ]
  },
  {
   "cell_type": "code",
   "execution_count": 4,
   "id": "01a3e353",
   "metadata": {},
   "outputs": [],
   "source": [
    "import numpy as np\n",
    "\n",
    "def vectorize_data(input, dims = 10000):\n",
    "    arr = np.zeros(shape=(len(input), dims))\n",
    "\n",
    "    for i, seq in enumerate(input):\n",
    "        arr[i, seq] = 1\n",
    "    \n",
    "    return arr\n",
    "\n",
    "train_data = vectorize_data(train_data)\n",
    "test_data = vectorize_data(test_data)\n",
    "\n",
    "train_labels = np.asarray(train_labels).astype('float32')\n",
    "test_labels = np.asarray(test_labels).astype('float32')"
   ]
  },
  {
   "cell_type": "code",
   "execution_count": 5,
   "id": "c564d588",
   "metadata": {},
   "outputs": [],
   "source": [
    "# model building\n",
    "from keras import models, layers\n",
    "from keras import optimizers, losses\n",
    "\n",
    "network = models.Sequential()\n",
    "\n",
    "network.add(layers.Dense(64, activation='relu', input_shape=(10000, )))\n",
    "network.add(layers.Dense(64, activation='relu'))\n",
    "network.add(layers.Dense(46, activation='softmax'))\n",
    "\n",
    "network.compile(optimizer=optimizers.RMSprop(learning_rate=0.001), loss=losses.sparse_categorical_crossentropy, metrics=['accuracy'])\n"
   ]
  },
  {
   "cell_type": "code",
   "execution_count": 6,
   "id": "ec516dc4",
   "metadata": {},
   "outputs": [],
   "source": [
    "# slicing data for model training into variables\n",
    "\n",
    "val_data = train_data[:1000]\n",
    "train_data = train_data[1000:]\n",
    "\n",
    "val_labels = train_labels[:1000]\n",
    "train_labels = train_labels[1000:]"
   ]
  },
  {
   "cell_type": "code",
   "execution_count": 7,
   "id": "1b2b65fb",
   "metadata": {},
   "outputs": [
    {
     "name": "stdout",
     "output_type": "stream",
     "text": [
      "Epoch 1/20\n",
      "16/16 [==============================] - 5s 105ms/step - loss: 2.7220 - accuracy: 0.4589 - val_loss: 1.7881 - val_accuracy: 0.6330\n",
      "Epoch 2/20\n",
      "16/16 [==============================] - 1s 42ms/step - loss: 1.4737 - accuracy: 0.7083 - val_loss: 1.3210 - val_accuracy: 0.7060\n",
      "Epoch 3/20\n",
      "16/16 [==============================] - 1s 40ms/step - loss: 1.0892 - accuracy: 0.7702 - val_loss: 1.1361 - val_accuracy: 0.7570\n",
      "Epoch 4/20\n",
      "16/16 [==============================] - 1s 44ms/step - loss: 0.8642 - accuracy: 0.8193 - val_loss: 1.0449 - val_accuracy: 0.7740\n",
      "Epoch 5/20\n",
      "16/16 [==============================] - 1s 43ms/step - loss: 0.6907 - accuracy: 0.8540 - val_loss: 0.9757 - val_accuracy: 0.7880\n",
      "Epoch 6/20\n",
      "16/16 [==============================] - 1s 42ms/step - loss: 0.5534 - accuracy: 0.8830 - val_loss: 0.9107 - val_accuracy: 0.8020\n",
      "Epoch 7/20\n",
      "16/16 [==============================] - 1s 65ms/step - loss: 0.4456 - accuracy: 0.9072 - val_loss: 0.9082 - val_accuracy: 0.8040\n",
      "Epoch 8/20\n",
      "16/16 [==============================] - 1s 72ms/step - loss: 0.3601 - accuracy: 0.9270 - val_loss: 0.8921 - val_accuracy: 0.8090\n",
      "Epoch 9/20\n",
      "16/16 [==============================] - 1s 69ms/step - loss: 0.2977 - accuracy: 0.9365 - val_loss: 0.8610 - val_accuracy: 0.8200\n",
      "Epoch 10/20\n",
      "16/16 [==============================] - 1s 71ms/step - loss: 0.2537 - accuracy: 0.9434 - val_loss: 0.8904 - val_accuracy: 0.8150\n",
      "Epoch 11/20\n",
      "16/16 [==============================] - 1s 60ms/step - loss: 0.2114 - accuracy: 0.9489 - val_loss: 0.9476 - val_accuracy: 0.8080\n",
      "Epoch 12/20\n",
      "16/16 [==============================] - 1s 67ms/step - loss: 0.1899 - accuracy: 0.9506 - val_loss: 0.9152 - val_accuracy: 0.8150\n",
      "Epoch 13/20\n",
      "16/16 [==============================] - 1s 51ms/step - loss: 0.1714 - accuracy: 0.9541 - val_loss: 0.9092 - val_accuracy: 0.8240\n",
      "Epoch 14/20\n",
      "16/16 [==============================] - 1s 50ms/step - loss: 0.1511 - accuracy: 0.9549 - val_loss: 0.9450 - val_accuracy: 0.8100\n",
      "Epoch 15/20\n",
      "16/16 [==============================] - 1s 94ms/step - loss: 0.1417 - accuracy: 0.9567 - val_loss: 0.9587 - val_accuracy: 0.8080\n",
      "Epoch 16/20\n",
      "16/16 [==============================] - 1s 78ms/step - loss: 0.1324 - accuracy: 0.9560 - val_loss: 1.0218 - val_accuracy: 0.7990\n",
      "Epoch 17/20\n",
      "16/16 [==============================] - 1s 61ms/step - loss: 0.1269 - accuracy: 0.9572 - val_loss: 0.9973 - val_accuracy: 0.8020\n",
      "Epoch 18/20\n",
      "16/16 [==============================] - 1s 49ms/step - loss: 0.1195 - accuracy: 0.9565 - val_loss: 1.0211 - val_accuracy: 0.8090\n",
      "Epoch 19/20\n",
      "16/16 [==============================] - 1s 65ms/step - loss: 0.1163 - accuracy: 0.9569 - val_loss: 1.0361 - val_accuracy: 0.8030\n",
      "Epoch 20/20\n",
      "16/16 [==============================] - 1s 77ms/step - loss: 0.1094 - accuracy: 0.9582 - val_loss: 1.0770 - val_accuracy: 0.7930\n"
     ]
    }
   ],
   "source": [
    "history = network.fit(train_data, train_labels, batch_size=512, epochs=20, validation_data=(val_data, val_labels))\n"
   ]
  },
  {
   "cell_type": "code",
   "execution_count": 8,
   "id": "2fae935b",
   "metadata": {},
   "outputs": [],
   "source": [
    "from keras import models, layers\n",
    "from keras import optimizers, losses\n",
    "\n",
    "network_2 = models.Sequential()\n",
    "\n",
    "network_2.add(layers.Dense(64, activation='relu', input_shape=(10000, )))\n",
    "network_2.add(layers.Dense(64, activation='relu'))\n",
    "network_2.add(layers.Dense(46, activation='softmax'))\n",
    "# compile tyme\n",
    "network_2.compile(optimizer=optimizers.RMSprop(learning_rate=0.001), loss=losses.sparse_categorical_crossentropy, metrics=['accuracy'])\n"
   ]
  },
  {
   "cell_type": "code",
   "execution_count": 9,
   "id": "900af93e",
   "metadata": {},
   "outputs": [
    {
     "name": "stdout",
     "output_type": "stream",
     "text": [
      "Epoch 1/8\n",
      "16/16 [==============================] - 5s 174ms/step - loss: 2.5974 - accuracy: 0.4855 - val_loss: 1.7200 - val_accuracy: 0.6030\n",
      "Epoch 2/8\n",
      "16/16 [==============================] - 1s 59ms/step - loss: 1.4352 - accuracy: 0.6913 - val_loss: 1.2895 - val_accuracy: 0.7100\n",
      "Epoch 3/8\n",
      "16/16 [==============================] - 1s 56ms/step - loss: 1.0582 - accuracy: 0.7722 - val_loss: 1.1217 - val_accuracy: 0.7540\n",
      "Epoch 4/8\n",
      "16/16 [==============================] - 1s 69ms/step - loss: 0.8208 - accuracy: 0.8296 - val_loss: 1.0063 - val_accuracy: 0.7950\n",
      "Epoch 5/8\n",
      "16/16 [==============================] - 1s 55ms/step - loss: 0.6485 - accuracy: 0.8676 - val_loss: 0.9698 - val_accuracy: 0.7890\n",
      "Epoch 6/8\n",
      "16/16 [==============================] - 1s 70ms/step - loss: 0.5116 - accuracy: 0.8938 - val_loss: 0.9492 - val_accuracy: 0.7930\n",
      "Epoch 7/8\n",
      "16/16 [==============================] - 1s 85ms/step - loss: 0.4149 - accuracy: 0.9126 - val_loss: 0.8887 - val_accuracy: 0.8180\n",
      "Epoch 8/8\n",
      "16/16 [==============================] - 1s 91ms/step - loss: 0.3336 - accuracy: 0.9298 - val_loss: 0.9417 - val_accuracy: 0.8020\n"
     ]
    }
   ],
   "source": [
    "history_2 = network_2.fit(train_data, train_labels, batch_size=512, epochs=8, validation_data=(val_data, val_labels))\n"
   ]
  },
  {
   "cell_type": "code",
   "execution_count": 10,
   "id": "af757fcf",
   "metadata": {},
   "outputs": [
    {
     "name": "stdout",
     "output_type": "stream",
     "text": [
      "71/71 [==============================] - 3s 37ms/step - loss: 1.0195 - accuracy: 0.7778\n"
     ]
    },
    {
     "data": {
      "text/plain": [
       "[1.0195187330245972, 0.777827262878418]"
      ]
     },
     "execution_count": 10,
     "metadata": {},
     "output_type": "execute_result"
    }
   ],
   "source": [
    "results = network_2.evaluate(test_data, test_labels)\n",
    "\n",
    "results"
   ]
  },
  {
   "cell_type": "code",
   "execution_count": null,
   "id": "3b3ed937",
   "metadata": {},
   "outputs": [],
   "source": []
  }
 ],
 "metadata": {
  "kernelspec": {
   "display_name": "Python 3 (ipykernel)",
   "language": "python",
   "name": "python3"
  },
  "language_info": {
   "codemirror_mode": {
    "name": "ipython",
    "version": 3
   },
   "file_extension": ".py",
   "mimetype": "text/x-python",
   "name": "python",
   "nbconvert_exporter": "python",
   "pygments_lexer": "ipython3",
   "version": "3.10.9"
  }
 },
 "nbformat": 4,
 "nbformat_minor": 5
}
