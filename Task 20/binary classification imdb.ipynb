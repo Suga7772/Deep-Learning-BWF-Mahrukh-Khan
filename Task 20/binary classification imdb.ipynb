{
 "cells": [
  {
   "cell_type": "code",
   "execution_count": 1,
   "id": "2d7dece5",
   "metadata": {},
   "outputs": [],
   "source": [
    "# multiclassification problem\n",
    "import tensorflow as tf\n",
    "from tensorflow import keras\n",
    "from keras.datasets import imdb\n",
    "import numpy as np\n",
    "import matplotlib.pyplot as plt"
   ]
  },
  {
   "cell_type": "code",
   "execution_count": 2,
   "id": "44bd476b",
   "metadata": {},
   "outputs": [
    {
     "name": "stdout",
     "output_type": "stream",
     "text": [
      "[1, 14, 22, 16, 43, 530, 973, 1622, 1385, 65, 458, 4468, 66, 3941, 4, 173, 36, 256, 5, 25, 100, 43, 838, 112, 50, 670, 2, 9, 35, 480, 284, 5, 150, 4, 172, 112, 167, 2, 336, 385, 39, 4, 172, 4536, 1111, 17, 546, 38, 13, 447, 4, 192, 50, 16, 6, 147, 2025, 19, 14, 22, 4, 1920, 4613, 469, 4, 22, 71, 87, 12, 16, 43, 530, 38, 76, 15, 13, 1247, 4, 22, 17, 515, 17, 12, 16, 626, 18, 2, 5, 62, 386, 12, 8, 316, 8, 106, 5, 4, 2223, 5244, 16, 480, 66, 3785, 33, 4, 130, 12, 16, 38, 619, 5, 25, 124, 51, 36, 135, 48, 25, 1415, 33, 6, 22, 12, 215, 28, 77, 52, 5, 14, 407, 16, 82, 2, 8, 4, 107, 117, 5952, 15, 256, 4, 2, 7, 3766, 5, 723, 36, 71, 43, 530, 476, 26, 400, 317, 46, 7, 4, 2, 1029, 13, 104, 88, 4, 381, 15, 297, 98, 32, 2071, 56, 26, 141, 6, 194, 7486, 18, 4, 226, 22, 21, 134, 476, 26, 480, 5, 144, 30, 5535, 18, 51, 36, 28, 224, 92, 25, 104, 4, 226, 65, 16, 38, 1334, 88, 12, 16, 283, 5, 16, 4472, 113, 103, 32, 15, 16, 5345, 19, 178, 32] \n",
      "\n",
      "\n",
      "1 \n",
      "\n",
      "\n"
     ]
    }
   ],
   "source": [
    "(train_data, train_labels),  (test_data, test_labels) = imdb.load_data(num_words = 10000)\n",
    "print(train_data[0], \"\\n\\n\")     # getting data points\n",
    "print(train_labels[0], \"\\n\\n\")   # first indent case"
   ]
  },
  {
   "cell_type": "code",
   "execution_count": 3,
   "id": "988a64ab",
   "metadata": {},
   "outputs": [
    {
     "data": {
      "text/plain": [
       "\" big hair big boobs bad music and a giant safety pin these are the words to best describe this terrible movie i love cheesy horror movies and i've seen hundreds but this had got to be on of the worst ever made the plot is paper thin and ridiculous the acting is an abomination the script is completely laughable the best is the end showdown with the cop and how he worked out who the killer is it's just so damn terribly written the clothes are sickening and funny in equal  the hair is big lots of boobs  men wear those cut  shirts that show off their  sickening that men actually wore them and the music is just  trash that plays over and over again in almost every scene there is trashy music boobs and  taking away bodies and the gym still doesn't close for  all joking aside this is a truly bad film whose only charm is to look back on the disaster that was the 80's and have a good old laugh at how bad everything was back then\""
      ]
     },
     "execution_count": 3,
     "metadata": {},
     "output_type": "execute_result"
    }
   ],
   "source": [
    "word_index = imdb.get_word_index()\n",
    "reverse_word_index = dict([(value, key) for (key, value) in word_index.items()])      # looping through all the values\n",
    "decoded_review = ' '.join([reverse_word_index.get(i - 3, '') for i in train_data[1]])\n",
    "\n",
    "decoded_review      # print decoded review"
   ]
  },
  {
   "cell_type": "code",
   "execution_count": 4,
   "id": "1a929dda",
   "metadata": {},
   "outputs": [],
   "source": [
    "# making function to encode the data\n",
    "\n",
    "def vectorize_data(input, dims = 10000):\n",
    "    arr = np.zeros(shape=(len(input), dims))\n",
    "\n",
    "    for i, seq in enumerate(input):\n",
    "        arr[i, seq] = 1\n",
    "    \n",
    "    return arr\n",
    "\n",
    "train_data = vectorize_data(train_data)\n",
    "test_data = vectorize_data(test_data)\n",
    "\n",
    "# vectorising labels\n",
    "train_labels = np.asarray(train_labels).astype('float32')\n",
    "test_labels = np.asarray(test_labels).astype('float32')\n"
   ]
  },
  {
   "cell_type": "code",
   "execution_count": 5,
   "id": "24074d7c",
   "metadata": {},
   "outputs": [],
   "source": [
    "from keras import models, layers"
   ]
  },
  {
   "cell_type": "code",
   "execution_count": 6,
   "id": "a15773f6",
   "metadata": {},
   "outputs": [],
   "source": [
    "network = models.Sequential()\n",
    "\n",
    "network.add(layers.Dense(16, activation='relu', input_shape=(10000,)))\n",
    "network.add(layers.Dense(16, activation='relu'))\n",
    "network.add(layers.Dense(1, activation='sigmoid'))"
   ]
  },
  {
   "cell_type": "code",
   "execution_count": 7,
   "id": "562abdd6",
   "metadata": {},
   "outputs": [],
   "source": [
    "from keras import optimizers\n",
    "\n",
    "network.compile(optimizer= optimizers.RMSprop(learning_rate=0.001), loss='binary_crossentropy', metrics=['accuracy'])"
   ]
  },
  {
   "cell_type": "code",
   "execution_count": 8,
   "id": "4aedcef2",
   "metadata": {},
   "outputs": [],
   "source": [
    "# training the model\n",
    "val_data = train_data[:10000]\n",
    "train_data = train_data[10000:]\n",
    "\n",
    "val_labels = train_labels[:10000]\n",
    "train_labels = train_labels[10000:]"
   ]
  },
  {
   "cell_type": "code",
   "execution_count": 9,
   "id": "321dc838",
   "metadata": {},
   "outputs": [
    {
     "name": "stdout",
     "output_type": "stream",
     "text": [
      "Epoch 1/20\n",
      "30/30 [==============================] - 10s 247ms/step - loss: 0.5198 - accuracy: 0.7955 - val_loss: 0.3946 - val_accuracy: 0.8693\n",
      "Epoch 2/20\n",
      "30/30 [==============================] - 1s 29ms/step - loss: 0.3134 - accuracy: 0.9009 - val_loss: 0.3144 - val_accuracy: 0.8816\n",
      "Epoch 3/20\n",
      "30/30 [==============================] - 1s 28ms/step - loss: 0.2314 - accuracy: 0.9241 - val_loss: 0.2808 - val_accuracy: 0.8898\n",
      "Epoch 4/20\n",
      "30/30 [==============================] - 1s 27ms/step - loss: 0.1813 - accuracy: 0.9420 - val_loss: 0.2727 - val_accuracy: 0.8903\n",
      "Epoch 5/20\n",
      "30/30 [==============================] - 1s 29ms/step - loss: 0.1489 - accuracy: 0.9523 - val_loss: 0.2805 - val_accuracy: 0.8885\n",
      "Epoch 6/20\n",
      "30/30 [==============================] - 1s 29ms/step - loss: 0.1213 - accuracy: 0.9619 - val_loss: 0.2955 - val_accuracy: 0.8856\n",
      "Epoch 7/20\n",
      "30/30 [==============================] - 1s 31ms/step - loss: 0.1024 - accuracy: 0.9685 - val_loss: 0.3111 - val_accuracy: 0.8813\n",
      "Epoch 8/20\n",
      "30/30 [==============================] - 1s 28ms/step - loss: 0.0837 - accuracy: 0.9752 - val_loss: 0.3309 - val_accuracy: 0.8788\n",
      "Epoch 9/20\n",
      "30/30 [==============================] - 1s 27ms/step - loss: 0.0715 - accuracy: 0.9787 - val_loss: 0.3560 - val_accuracy: 0.8809\n",
      "Epoch 10/20\n",
      "30/30 [==============================] - 1s 28ms/step - loss: 0.0569 - accuracy: 0.9856 - val_loss: 0.3724 - val_accuracy: 0.8791\n",
      "Epoch 11/20\n",
      "30/30 [==============================] - 1s 29ms/step - loss: 0.0459 - accuracy: 0.9895 - val_loss: 0.4094 - val_accuracy: 0.8706\n",
      "Epoch 12/20\n",
      "30/30 [==============================] - 1s 31ms/step - loss: 0.0394 - accuracy: 0.9913 - val_loss: 0.4321 - val_accuracy: 0.8728\n",
      "Epoch 13/20\n",
      "30/30 [==============================] - 1s 29ms/step - loss: 0.0312 - accuracy: 0.9935 - val_loss: 0.4578 - val_accuracy: 0.8738\n",
      "Epoch 14/20\n",
      "30/30 [==============================] - 1s 27ms/step - loss: 0.0258 - accuracy: 0.9947 - val_loss: 0.4923 - val_accuracy: 0.8714\n",
      "Epoch 15/20\n",
      "30/30 [==============================] - 1s 29ms/step - loss: 0.0197 - accuracy: 0.9973 - val_loss: 0.5297 - val_accuracy: 0.8711\n",
      "Epoch 16/20\n",
      "30/30 [==============================] - 1s 28ms/step - loss: 0.0168 - accuracy: 0.9971 - val_loss: 0.5580 - val_accuracy: 0.8700\n",
      "Epoch 17/20\n",
      "30/30 [==============================] - 1s 30ms/step - loss: 0.0114 - accuracy: 0.9990 - val_loss: 0.7105 - val_accuracy: 0.8572\n",
      "Epoch 18/20\n",
      "30/30 [==============================] - 1s 29ms/step - loss: 0.0119 - accuracy: 0.9983 - val_loss: 0.6495 - val_accuracy: 0.8685\n",
      "Epoch 19/20\n",
      "30/30 [==============================] - 1s 28ms/step - loss: 0.0060 - accuracy: 0.9996 - val_loss: 0.7085 - val_accuracy: 0.8653\n",
      "Epoch 20/20\n",
      "30/30 [==============================] - 1s 29ms/step - loss: 0.0080 - accuracy: 0.9987 - val_loss: 0.7021 - val_accuracy: 0.8654\n"
     ]
    }
   ],
   "source": [
    "history = network.fit(train_data, train_labels, batch_size=512, epochs=20, validation_data=(val_data, val_labels))\n"
   ]
  },
  {
   "cell_type": "code",
   "execution_count": 10,
   "id": "719f9dd2",
   "metadata": {},
   "outputs": [
    {
     "data": {
      "text/plain": [
       "dict_keys(['loss', 'accuracy', 'val_loss', 'val_accuracy'])"
      ]
     },
     "execution_count": 10,
     "metadata": {},
     "output_type": "execute_result"
    }
   ],
   "source": [
    "history_dict = history.history\n",
    "\n",
    "history_dict.keys()"
   ]
  },
  {
   "cell_type": "code",
   "execution_count": 11,
   "id": "0da856ab",
   "metadata": {},
   "outputs": [],
   "source": [
    "loss_values = history_dict['loss']\n",
    "val_loss_values = history_dict['val_loss']\n",
    "epochs = range(1,  len(loss_values) + 1)"
   ]
  },
  {
   "cell_type": "code",
   "execution_count": 17,
   "id": "875248ad",
   "metadata": {},
   "outputs": [
    {
     "name": "stderr",
     "output_type": "stream",
     "text": [
      "C:\\Users\\Mahrukh Khan\\AppData\\Local\\Temp\\ipykernel_14448\\4172408244.py:1: UserWarning: color is redundantly defined by the 'color' keyword argument and the fmt string \"bo\" (-> color='b'). The keyword argument will take precedence.\n",
      "  plt.plot(epochs, loss_values, 'bo', label='training loss', color=\"red\")\n",
      "C:\\Users\\Mahrukh Khan\\AppData\\Local\\Temp\\ipykernel_14448\\4172408244.py:2: UserWarning: color is redundantly defined by the 'color' keyword argument and the fmt string \"b\" (-> color=(0.0, 0.0, 1.0, 1)). The keyword argument will take precedence.\n",
      "  plt.plot(epochs, val_loss_values, 'b', label='validation loss', color=\"black\")\n"
     ]
    },
    {
     "data": {
      "text/plain": [
       "[<matplotlib.lines.Line2D at 0x1c1ffe99ba0>]"
      ]
     },
     "execution_count": 17,
     "metadata": {},
     "output_type": "execute_result"
    },
    {
     "data": {
      "image/png": "[encoded data removed]",
      "text/plain": [
       "<Figure size 640x480 with 1 Axes>"
      ]
     },
     "metadata": {},
     "output_type": "display_data"
    }
   ],
   "source": [
    "plt.plot(epochs, loss_values, 'bo', label='training loss', color=\"red\")\n",
    "plt.plot(epochs, val_loss_values, 'b', label='validation loss', color=\"black\")\n"
   ]
  },
  {
   "cell_type": "code",
   "execution_count": 13,
   "id": "3af5eccf",
   "metadata": {},
   "outputs": [
    {
     "name": "stderr",
     "output_type": "stream",
     "text": [
      "No artists with labels found to put in legend.  Note that artists whose label start with an underscore are ignored when legend() is called with no argument.\n"
     ]
    },
    {
     "data": {
      "image/png": "[encoded data removed]",
      "text/plain": [
       "<Figure size 640x480 with 1 Axes>"
      ]
     },
     "metadata": {},
     "output_type": "display_data"
    }
   ],
   "source": [
    "plt.title('Training and validation loss')\n",
    "plt.xlabel('Epochs')\n",
    "plt.ylabel('Loss')\n",
    "plt.legend()\n",
    "plt.show()\n"
   ]
  },
  {
   "cell_type": "code",
   "execution_count": 14,
   "id": "516c99a8",
   "metadata": {},
   "outputs": [
    {
     "name": "stdout",
     "output_type": "stream",
     "text": [
      "Epoch 1/4\n",
      "30/30 [==============================] - 2s 19ms/step - loss: 0.5481 - accuracy: 0.7550\n",
      "Epoch 2/4\n",
      "30/30 [==============================] - 1s 20ms/step - loss: 0.3414 - accuracy: 0.8891\n",
      "Epoch 3/4\n",
      "30/30 [==============================] - 1s 18ms/step - loss: 0.2517 - accuracy: 0.9178\n",
      "Epoch 4/4\n",
      "30/30 [==============================] - 1s 18ms/step - loss: 0.2034 - accuracy: 0.9341\n",
      "782/782 [==============================] - 3s 3ms/step - loss: 0.2885 - accuracy: 0.8845\n"
     ]
    }
   ],
   "source": [
    "model = models.Sequential()\n",
    "model.add(layers.Dense(16, activation='relu', input_shape=(10000,)))\n",
    "model.add(layers.Dense(16, activation='relu'))\n",
    "model.add(layers.Dense(1, activation='sigmoid'))\n",
    "model.compile(optimizer='rmsprop',\n",
    "loss='binary_crossentropy',\n",
    "metrics=['accuracy'])\n",
    "\n",
    "model.fit(train_data, train_labels, epochs=4, batch_size=512)\n",
    "results = model.evaluate(test_data, test_labels)"
   ]
  },
  {
   "cell_type": "code",
   "execution_count": 15,
   "id": "0eec68a5",
   "metadata": {},
   "outputs": [
    {
     "data": {
      "text/plain": [
       "[0.288522332906723, 0.8845199942588806]"
      ]
     },
     "execution_count": 15,
     "metadata": {},
     "output_type": "execute_result"
    }
   ],
   "source": [
    "results"
   ]
  }
 ],
 "metadata": {
  "kernelspec": {
   "display_name": "Python 3 (ipykernel)",
   "language": "python",
   "name": "python3"
  },
  "language_info": {
   "codemirror_mode": {
    "name": "ipython",
    "version": 3
   },
   "file_extension": ".py",
   "mimetype": "text/x-python",
   "name": "python",
   "nbconvert_exporter": "python",
   "pygments_lexer": "ipython3",
   "version": "3.10.4"
  }
 },
 "nbformat": 4,
 "nbformat_minor": 5
}
