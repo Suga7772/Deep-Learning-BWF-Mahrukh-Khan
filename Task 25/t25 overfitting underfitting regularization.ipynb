{
 "cells": [
  {
   "cell_type": "markdown",
   "id": "5060c0f9",
   "metadata": {},
   "source": [
    "The fundamental issue in machine learning is the tension beween optimizatoin and generalization Optimization refers to the process of adjusting a model to get the best possible performance on training data. \n",
    "\n",
    "Generalization refers to how well the trained model performs on data it has never seen before.\n",
    "\n",
    "After certain iterations on the training data, the model starts to learn patterns that are specific to the training data but misleading for new data.\n",
    "\n",
    "The best solution to this problem is to get more training data. But what if we dont have that option. In that case we will force the model to only give higher weights to features of most importance. This process of fighting overfitting is called regularization"
   ]
  },
  {
   "cell_type": "code",
   "execution_count": 2,
   "id": "2e5173e7",
   "metadata": {},
   "outputs": [],
   "source": [
    "from keras.datasets import imdb\n",
    "import numpy as np\n",
    "(train_data, train_labels), (test_data, test_labels) = imdb.load_data(num_words=10000)"
   ]
  },
  {
   "cell_type": "code",
   "execution_count": 3,
   "id": "5345e50b",
   "metadata": {},
   "outputs": [],
   "source": [
    "def vectorize_sequence(sequences, dimensions=10000):\n",
    "    results = np.zeros((len(sequences), dimensions))\n",
    "    for i, sequence in enumerate(sequences):\n",
    "        results[i, sequence] = 1.\n",
    "    return results"
   ]
  },
  {
   "cell_type": "code",
   "execution_count": 4,
   "id": "a73900b7",
   "metadata": {},
   "outputs": [],
   "source": [
    "x_train = vectorize_sequence(train_data)\n",
    "x_test = vectorize_sequence(test_data)\n",
    "y_train = np.asarray(train_labels).astype('float32')\n",
    "y_test = np.asarray(test_labels).astype('float32')"
   ]
  },
  {
   "cell_type": "code",
   "execution_count": 6,
   "id": "6f19ca1e",
   "metadata": {},
   "outputs": [],
   "source": [
    "from keras import models\n",
    "from keras import layers\n",
    "from keras import optimizers\n",
    "from keras import metrics\n",
    "from keras import losses\n",
    "\n",
    "model = models.Sequential()\n",
    "model.add(layers.Dense(4, activation='relu', input_shape=(10000,)))\n",
    "model.add(layers.Dense(4, activation='relu'))\n",
    "model.add(layers.Dense(1, activation='sigmoid'))"
   ]
  },
  {
   "cell_type": "code",
   "execution_count": 7,
   "id": "9a30dd75",
   "metadata": {},
   "outputs": [],
   "source": [
    "model.compile(optimizer=optimizers.RMSprop(learning_rate=0.001), loss=losses.binary_crossentropy, metrics=[metrics.binary_accuracy])\n",
    "\n",
    "\n",
    "x_val = x_train[:10000]\n",
    "partial_x_train = x_train[10000:]\n",
    "y_val = y_train[:10000]\n",
    "partial_y_train = y_train[10000:]"
   ]
  },
  {
   "cell_type": "code",
   "execution_count": 8,
   "id": "29a18da6",
   "metadata": {},
   "outputs": [
    {
     "name": "stdout",
     "output_type": "stream",
     "text": [
      "Epoch 1/20\n",
      "30/30 [==============================] - 15s 384ms/step - loss: 0.6219 - binary_accuracy: 0.6403 - val_loss: 0.5711 - val_binary_accuracy: 0.7028\n",
      "Epoch 2/20\n",
      "30/30 [==============================] - 1s 42ms/step - loss: 0.5260 - binary_accuracy: 0.7931 - val_loss: 0.5235 - val_binary_accuracy: 0.7936\n",
      "Epoch 3/20\n",
      "30/30 [==============================] - 1s 29ms/step - loss: 0.4769 - binary_accuracy: 0.8538 - val_loss: 0.4964 - val_binary_accuracy: 0.8165\n",
      "Epoch 4/20\n",
      "30/30 [==============================] - 1s 25ms/step - loss: 0.4408 - binary_accuracy: 0.8887 - val_loss: 0.4727 - val_binary_accuracy: 0.8613\n",
      "Epoch 5/20\n",
      "30/30 [==============================] - 1s 23ms/step - loss: 0.4125 - binary_accuracy: 0.9131 - val_loss: 0.4693 - val_binary_accuracy: 0.8388\n",
      "Epoch 6/20\n",
      "30/30 [==============================] - 1s 30ms/step - loss: 0.3879 - binary_accuracy: 0.9284 - val_loss: 0.4584 - val_binary_accuracy: 0.8506\n",
      "Epoch 7/20\n",
      "30/30 [==============================] - 1s 24ms/step - loss: 0.3663 - binary_accuracy: 0.9413 - val_loss: 0.4442 - val_binary_accuracy: 0.8684\n",
      "Epoch 8/20\n",
      "30/30 [==============================] - 1s 31ms/step - loss: 0.3470 - binary_accuracy: 0.9499 - val_loss: 0.4417 - val_binary_accuracy: 0.8679\n",
      "Epoch 9/20\n",
      "30/30 [==============================] - 1s 33ms/step - loss: 0.3278 - binary_accuracy: 0.9594 - val_loss: 0.4270 - val_binary_accuracy: 0.8797\n",
      "Epoch 10/20\n",
      "30/30 [==============================] - 2s 69ms/step - loss: 0.3105 - binary_accuracy: 0.9653 - val_loss: 0.4822 - val_binary_accuracy: 0.8423\n",
      "Epoch 11/20\n",
      "30/30 [==============================] - 1s 51ms/step - loss: 0.2937 - binary_accuracy: 0.9712 - val_loss: 0.4475 - val_binary_accuracy: 0.8631\n",
      "Epoch 12/20\n",
      "30/30 [==============================] - 1s 32ms/step - loss: 0.2780 - binary_accuracy: 0.9747 - val_loss: 0.4658 - val_binary_accuracy: 0.8573\n",
      "Epoch 13/20\n",
      "30/30 [==============================] - 1s 41ms/step - loss: 0.2627 - binary_accuracy: 0.9785 - val_loss: 0.4448 - val_binary_accuracy: 0.8672\n",
      "Epoch 14/20\n",
      "30/30 [==============================] - 2s 54ms/step - loss: 0.2475 - binary_accuracy: 0.9820 - val_loss: 0.4547 - val_binary_accuracy: 0.8635\n",
      "Epoch 15/20\n",
      "30/30 [==============================] - 1s 39ms/step - loss: 0.2323 - binary_accuracy: 0.9843 - val_loss: 0.4612 - val_binary_accuracy: 0.8643\n",
      "Epoch 16/20\n",
      "30/30 [==============================] - 1s 36ms/step - loss: 0.2176 - binary_accuracy: 0.9867 - val_loss: 0.4364 - val_binary_accuracy: 0.8707\n",
      "Epoch 17/20\n",
      "30/30 [==============================] - 1s 35ms/step - loss: 0.2021 - binary_accuracy: 0.9879 - val_loss: 0.4391 - val_binary_accuracy: 0.8693\n",
      "Epoch 18/20\n",
      "30/30 [==============================] - 1s 33ms/step - loss: 0.1860 - binary_accuracy: 0.9881 - val_loss: 0.5153 - val_binary_accuracy: 0.8539\n",
      "Epoch 19/20\n",
      "30/30 [==============================] - 1s 30ms/step - loss: 0.1700 - binary_accuracy: 0.9883 - val_loss: 0.4991 - val_binary_accuracy: 0.8585\n",
      "Epoch 20/20\n",
      "30/30 [==============================] - 1s 37ms/step - loss: 0.1511 - binary_accuracy: 0.9893 - val_loss: 0.4801 - val_binary_accuracy: 0.8619\n"
     ]
    }
   ],
   "source": [
    "history = model.fit(partial_x_train, partial_y_train, epochs=20, batch_size=512, validation_data=(x_val, y_val))"
   ]
  },
  {
   "cell_type": "markdown",
   "id": "4d25a56d",
   "metadata": {},
   "source": [
    "# # regularization"
   ]
  },
  {
   "cell_type": "code",
   "execution_count": 9,
   "id": "5c48330e",
   "metadata": {},
   "outputs": [],
   "source": [
    "from keras import regularizers"
   ]
  },
  {
   "cell_type": "code",
   "execution_count": 10,
   "id": "a455ccd3",
   "metadata": {},
   "outputs": [],
   "source": [
    "model = models.Sequential()\n",
    "model.add(layers.Dense(16, kernel_regularizer=regularizers.l2(0.001),\n",
    "activation='relu', input_shape=(10000,)))\n",
    "model.add(layers.Dense(16, kernel_regularizer=regularizers.l2(0.001),\n",
    "activation='relu'))\n",
    "model.add(layers.Dense(1, activation='sigmoid'))\n",
    "\n",
    "model.compile(optimizer=optimizers.RMSprop(learning_rate=0.001),\n",
    "            loss=losses.binary_crossentropy,\n",
    "            metrics=[metrics.binary_accuracy])\n",
    "\n",
    "x_val = x_train[:10000]\n",
    "partial_x_train = x_train[10000:]\n",
    "y_val = y_train[:10000]\n",
    "partial_y_train = y_train[10000:]"
   ]
  },
  {
   "cell_type": "code",
   "execution_count": 11,
   "id": "bf07c87b",
   "metadata": {},
   "outputs": [
    {
     "name": "stdout",
     "output_type": "stream",
     "text": [
      "Epoch 1/20\n",
      "30/30 [==============================] - 10s 262ms/step - loss: 0.5986 - binary_accuracy: 0.7857 - val_loss: 0.4760 - val_binary_accuracy: 0.8617\n",
      "Epoch 2/20\n",
      "30/30 [==============================] - 1s 30ms/step - loss: 0.3993 - binary_accuracy: 0.8922 - val_loss: 0.3922 - val_binary_accuracy: 0.8702\n",
      "Epoch 3/20\n",
      "30/30 [==============================] - 1s 31ms/step - loss: 0.3174 - binary_accuracy: 0.9129 - val_loss: 0.3681 - val_binary_accuracy: 0.8708\n",
      "Epoch 4/20\n",
      "30/30 [==============================] - 1s 28ms/step - loss: 0.2752 - binary_accuracy: 0.9258 - val_loss: 0.3359 - val_binary_accuracy: 0.8884\n",
      "Epoch 5/20\n",
      "30/30 [==============================] - 1s 26ms/step - loss: 0.2496 - binary_accuracy: 0.9334 - val_loss: 0.3328 - val_binary_accuracy: 0.8876\n",
      "Epoch 6/20\n",
      "30/30 [==============================] - 1s 27ms/step - loss: 0.2291 - binary_accuracy: 0.9434 - val_loss: 0.3425 - val_binary_accuracy: 0.8840\n",
      "Epoch 7/20\n",
      "30/30 [==============================] - 1s 27ms/step - loss: 0.2161 - binary_accuracy: 0.9486 - val_loss: 0.3519 - val_binary_accuracy: 0.8796\n",
      "Epoch 8/20\n",
      "30/30 [==============================] - 1s 30ms/step - loss: 0.2088 - binary_accuracy: 0.9510 - val_loss: 0.3455 - val_binary_accuracy: 0.8842\n",
      "Epoch 9/20\n",
      "30/30 [==============================] - 1s 26ms/step - loss: 0.1968 - binary_accuracy: 0.9569 - val_loss: 0.3513 - val_binary_accuracy: 0.8832\n",
      "Epoch 10/20\n",
      "30/30 [==============================] - 1s 27ms/step - loss: 0.1920 - binary_accuracy: 0.9573 - val_loss: 0.3640 - val_binary_accuracy: 0.8785\n",
      "Epoch 11/20\n",
      "30/30 [==============================] - 1s 38ms/step - loss: 0.1892 - binary_accuracy: 0.9568 - val_loss: 0.3812 - val_binary_accuracy: 0.8736\n",
      "Epoch 12/20\n",
      "30/30 [==============================] - 1s 35ms/step - loss: 0.1786 - binary_accuracy: 0.9622 - val_loss: 0.3783 - val_binary_accuracy: 0.8787\n",
      "Epoch 13/20\n",
      "30/30 [==============================] - 1s 37ms/step - loss: 0.1758 - binary_accuracy: 0.9637 - val_loss: 0.3940 - val_binary_accuracy: 0.8780\n",
      "Epoch 14/20\n",
      "30/30 [==============================] - 1s 43ms/step - loss: 0.1705 - binary_accuracy: 0.9659 - val_loss: 0.3899 - val_binary_accuracy: 0.8764\n",
      "Epoch 15/20\n",
      "30/30 [==============================] - 1s 38ms/step - loss: 0.1648 - binary_accuracy: 0.9672 - val_loss: 0.3983 - val_binary_accuracy: 0.8758\n",
      "Epoch 16/20\n",
      "30/30 [==============================] - 1s 25ms/step - loss: 0.1632 - binary_accuracy: 0.9674 - val_loss: 0.4143 - val_binary_accuracy: 0.8698\n",
      "Epoch 17/20\n",
      "30/30 [==============================] - 1s 25ms/step - loss: 0.1574 - binary_accuracy: 0.9700 - val_loss: 0.4128 - val_binary_accuracy: 0.8759\n",
      "Epoch 18/20\n",
      "30/30 [==============================] - 1s 26ms/step - loss: 0.1522 - binary_accuracy: 0.9725 - val_loss: 0.4242 - val_binary_accuracy: 0.8733\n",
      "Epoch 19/20\n",
      "30/30 [==============================] - 1s 26ms/step - loss: 0.1525 - binary_accuracy: 0.9726 - val_loss: 0.4246 - val_binary_accuracy: 0.8734\n",
      "Epoch 20/20\n",
      "30/30 [==============================] - 1s 32ms/step - loss: 0.1479 - binary_accuracy: 0.9729 - val_loss: 0.4311 - val_binary_accuracy: 0.8741\n"
     ]
    }
   ],
   "source": [
    "history = model.fit(partial_x_train, partial_y_train, epochs=20, batch_size=512, validation_data=(x_val, y_val))"
   ]
  },
  {
   "cell_type": "markdown",
   "id": "37d5ea5b",
   "metadata": {},
   "source": [
    "## conclusion\n",
    "comparing the validation loss of the original larger model and the new larger model with regularization we an see that regularizing our model decreased the validation loss significantly. Therefore, reducing the chance of overfitting on our training data."
   ]
  },
  {
   "cell_type": "code",
   "execution_count": null,
   "id": "b4028076",
   "metadata": {},
   "outputs": [],
   "source": []
  }
 ],
 "metadata": {
  "kernelspec": {
   "display_name": "Python 3 (ipykernel)",
   "language": "python",
   "name": "python3"
  },
  "language_info": {
   "codemirror_mode": {
    "name": "ipython",
    "version": 3
   },
   "file_extension": ".py",
   "mimetype": "text/x-python",
   "name": "python",
   "nbconvert_exporter": "python",
   "pygments_lexer": "ipython3",
   "version": "3.10.9"
  }
 },
 "nbformat": 4,
 "nbformat_minor": 5
}
