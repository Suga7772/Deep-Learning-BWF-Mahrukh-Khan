{
 "cells": [
  {
   "cell_type": "markdown",
   "id": "cab55b0d",
   "metadata": {},
   "source": [
    "# Layers In models"
   ]
  },
  {
   "cell_type": "markdown",
   "id": "765fa3f1",
   "metadata": {},
   "source": [
    "#### A deep-learning model is a directed, acyclic graph of layers"
   ]
  },
  {
   "cell_type": "markdown",
   "id": "6820c1f7",
   "metadata": {},
   "source": [
    "You can think of layers as the LEGO bricks of deep learning, a metaphor that is made explicit by frameworks like Keras."
   ]
  },
  {
   "cell_type": "code",
   "execution_count": 1,
   "id": "05a98ebf",
   "metadata": {},
   "outputs": [],
   "source": [
    "from keras import layers\n",
    "\n",
    "layer = layers.Dense(32, input_shape=(784,))"
   ]
  },
  {
   "cell_type": "markdown",
   "id": "9d160289",
   "metadata": {},
   "source": [
    "We’re creating a layer that will only accept as input 2D tensors where the first dimension is 784 (axis 0, the batch dimension, is unspecified, and thus any value would be accepted). This layer will return a tensor where the first dimension has been transformed to be 32."
   ]
  },
  {
   "cell_type": "markdown",
   "id": "d8416da2",
   "metadata": {},
   "source": [
    "### Another Example"
   ]
  },
  {
   "cell_type": "code",
   "execution_count": 2,
   "id": "0c44481e",
   "metadata": {},
   "outputs": [],
   "source": [
    "from keras import models\n",
    "\n",
    "model = models.Sequential()\n",
    "model.add(layers.Dense(32, input_shape=(784,)))\n",
    "model.add(layers.Dense(32))"
   ]
  },
  {
   "cell_type": "markdown",
   "id": "b797fcc3",
   "metadata": {},
   "source": [
    "When using Keras, you don’t have to worry about compatibility, because the layers you add to your models are dynamically built to match the shape of the incoming layer.\n",
    "\n",
    "The second layer didn’t receive an input shape argument—instead, it automatically inferred its input shape as being the output shape of the layer that came before."
   ]
  },
  {
   "cell_type": "code",
   "execution_count": null,
   "id": "e80358a5",
   "metadata": {},
   "outputs": [],
   "source": []
  }
 ],
 "metadata": {
  "kernelspec": {
   "display_name": "Python 3 (ipykernel)",
   "language": "python",
   "name": "python3"
  },
  "language_info": {
   "codemirror_mode": {
    "name": "ipython",
    "version": 3
   },
   "file_extension": ".py",
   "mimetype": "text/x-python",
   "name": "python",
   "nbconvert_exporter": "python",
   "pygments_lexer": "ipython3",
   "version": "3.10.4"
  }
 },
 "nbformat": 4,
 "nbformat_minor": 5
}
